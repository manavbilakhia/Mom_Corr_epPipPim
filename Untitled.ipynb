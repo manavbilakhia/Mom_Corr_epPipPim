{
 "cells": [
  {
   "cell_type": "code",
   "execution_count": null,
   "id": "rapid-ideal",
   "metadata": {},
   "outputs": [],
   "source": [
    "#!/usr/bin/env python3\n",
    "fname_in =  \"epPipPim.outb.qa.nSidis_005423.hipo.root\"\n",
    "rdf = ROOT.RDataFrame(\"h22\",fname)\n",
    "\n",
    "rdf = rdf.Define(\"pimThe\",\"thpim=pim.Theta()*TMath::RadToDeg()\")\n",
    "\n",
    "hPimThe = rdf_0.Histo1D((\"hpimThe\",\"\\theta \\pi^-;\\theta\",200,0,365), \"pimThe\")\n",
    "c1 = ROOT.TCanvas(\"c1\",\"c1\", 1600,1000)\n",
    "#c1.Divide(1,2,.001,0.001)\n",
    "c1.Draw()\n",
    "c1.cd(1)\n",
    "hPimThe.Draw()\n",
    "# Keep the canvas open\n",
    "canvas.Update()\n",
    "canvas.Modified()\n",
    "\n",
    "# Keep the script running until the canvas is closed\n",
    "ROOT.gApplication.Run()"
   ]
  }
 ],
 "metadata": {
  "kernelspec": {
   "display_name": "Python 3 (ipykernel)",
   "language": "python",
   "name": "python3"
  },
  "language_info": {
   "codemirror_mode": {
    "name": "ipython",
    "version": 3
   },
   "file_extension": ".py",
   "mimetype": "text/x-python",
   "name": "python",
   "nbconvert_exporter": "python",
   "pygments_lexer": "ipython3",
   "version": "3.8.6"
  }
 },
 "nbformat": 4,
 "nbformat_minor": 5
}
